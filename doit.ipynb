{
 "cells": [
  {
   "cell_type": "code",
   "execution_count": 14,
   "metadata": {},
   "outputs": [],
   "source": [
    "from poly import *\n",
    "from fresnel import diffraction\n",
    "import numpy as np\n",
    "import matplotlib.pyplot as plt\n",
    "%matplotlib inline\n",
    "\n"
   ]
  },
  {
   "cell_type": "code",
   "execution_count": 15,
   "metadata": {},
   "outputs": [
    {
     "name": "stdout",
     "output_type": "stream",
     "text": [
      "Creating petals with 96000 points\n"
     ]
    }
   ],
   "source": [
    "# Choose GPU\n",
    "cp.cuda.Device(0).use()\n",
    "# Create NW2 profile\n",
    "n_border = 2000\n",
    "n_petals = 24\n",
    "print('Creating petals with %d points'%(n_border*2*n_petals))\n",
    "#p = petal_FT(n_border=n,profile_type='sister',profile_path='Matlab_files/NW2.mat')\n",
    "# p = petal_FT(n_petals=n_petals, n_border=n_border,profile_type='trapeze',profile_path='Matlab_files/Param_PourOc.mat')\n",
    "p = petal_FT(n_petals=n_petals, n_border=n_border,profile_type='linearly_interpolated',profile_path='Matlab_files/ProfilApprox_12.mat')\n"
   ]
  },
  {
   "cell_type": "code",
   "execution_count": 18,
   "metadata": {},
   "outputs": [
    {
     "data": {
      "text/plain": [
       "{'__header__': b'MATLAB 5.0 MAT-file, Platform: GLNXA64, Created on: Mon Mar 10 14:42:59 2025',\n",
       " '__version__': '1.0',\n",
       " '__globals__': [],\n",
       " 'ProfileApprox': array([[1.        ],\n",
       "        [1.        ],\n",
       "        [1.        ],\n",
       "        ...,\n",
       "        [0.00109335],\n",
       "        [0.00109335],\n",
       "        [0.00109335]]),\n",
       " 'Z': array([[80000000]]),\n",
       " 'lambdaRange': array([[6.5e-07]])}"
      ]
     },
     "execution_count": 18,
     "metadata": {},
     "output_type": "execute_result"
    }
   ],
   "source": [
    "# plt.scatter(p.Gamma[:,0],p.Gamma[:,1])\n",
    "p.occ"
   ]
  },
  {
   "cell_type": "code",
   "execution_count": null,
   "metadata": {},
   "outputs": [],
   "source": []
  }
 ],
 "metadata": {
  "kernelspec": {
   "display_name": "Python 3",
   "language": "python",
   "name": "python3"
  },
  "language_info": {
   "codemirror_mode": {
    "name": "ipython",
    "version": 3
   },
   "file_extension": ".py",
   "mimetype": "text/x-python",
   "name": "python",
   "nbconvert_exporter": "python",
   "pygments_lexer": "ipython3",
   "version": "3.10.12"
  }
 },
 "nbformat": 4,
 "nbformat_minor": 2
}
